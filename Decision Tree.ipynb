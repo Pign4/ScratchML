{
 "cells": [
  {
   "cell_type": "code",
   "execution_count": 3,
   "metadata": {},
   "outputs": [
    {
     "name": "stdout",
     "output_type": "stream",
     "text": [
      "(150, 5)\n"
     ]
    },
    {
     "data": {
      "text/html": [
       "<div>\n",
       "<style scoped>\n",
       "    .dataframe tbody tr th:only-of-type {\n",
       "        vertical-align: middle;\n",
       "    }\n",
       "\n",
       "    .dataframe tbody tr th {\n",
       "        vertical-align: top;\n",
       "    }\n",
       "\n",
       "    .dataframe thead th {\n",
       "        text-align: right;\n",
       "    }\n",
       "</style>\n",
       "<table border=\"1\" class=\"dataframe\">\n",
       "  <thead>\n",
       "    <tr style=\"text-align: right;\">\n",
       "      <th></th>\n",
       "      <th>sepal_length</th>\n",
       "      <th>sepal_width</th>\n",
       "      <th>petal_length</th>\n",
       "      <th>petal_width</th>\n",
       "      <th>species</th>\n",
       "    </tr>\n",
       "  </thead>\n",
       "  <tbody>\n",
       "    <tr>\n",
       "      <th>0</th>\n",
       "      <td>5.1</td>\n",
       "      <td>3.5</td>\n",
       "      <td>1.4</td>\n",
       "      <td>0.2</td>\n",
       "      <td>0</td>\n",
       "    </tr>\n",
       "    <tr>\n",
       "      <th>1</th>\n",
       "      <td>4.9</td>\n",
       "      <td>3.0</td>\n",
       "      <td>1.4</td>\n",
       "      <td>0.2</td>\n",
       "      <td>0</td>\n",
       "    </tr>\n",
       "    <tr>\n",
       "      <th>2</th>\n",
       "      <td>4.7</td>\n",
       "      <td>3.2</td>\n",
       "      <td>1.3</td>\n",
       "      <td>0.2</td>\n",
       "      <td>0</td>\n",
       "    </tr>\n",
       "    <tr>\n",
       "      <th>3</th>\n",
       "      <td>4.6</td>\n",
       "      <td>3.1</td>\n",
       "      <td>1.5</td>\n",
       "      <td>0.2</td>\n",
       "      <td>0</td>\n",
       "    </tr>\n",
       "    <tr>\n",
       "      <th>4</th>\n",
       "      <td>5.0</td>\n",
       "      <td>3.6</td>\n",
       "      <td>1.4</td>\n",
       "      <td>0.2</td>\n",
       "      <td>0</td>\n",
       "    </tr>\n",
       "  </tbody>\n",
       "</table>\n",
       "</div>"
      ],
      "text/plain": [
       "   sepal_length  sepal_width  petal_length  petal_width  species\n",
       "0           5.1          3.5           1.4          0.2        0\n",
       "1           4.9          3.0           1.4          0.2        0\n",
       "2           4.7          3.2           1.3          0.2        0\n",
       "3           4.6          3.1           1.5          0.2        0\n",
       "4           5.0          3.6           1.4          0.2        0"
      ]
     },
     "execution_count": 3,
     "metadata": {},
     "output_type": "execute_result"
    }
   ],
   "source": [
    "import numpy as np\n",
    "import pandas as pd\n",
    "\n",
    "iris = pd.read_csv(\"iris.csv\", names=[\"sepal_length\", \"sepal_width\", \"petal_length\", \"petal_width\", \"species\"])\n",
    "labels, species = pd.factorize(iris.species)\n",
    "X = iris.copy()\n",
    "print(X.shape)\n",
    "X.species = labels\n",
    "X.head()"
   ]
  },
  {
   "cell_type": "code",
   "execution_count": 6,
   "metadata": {},
   "outputs": [],
   "source": [
    "X_train = X.sample(frac=0.8)\n",
    "test = X.drop(X_train.index)\n",
    "X_test = test.drop(columns=\"species\")\n",
    "y_test = test[\"species\"]"
   ]
  },
  {
   "cell_type": "code",
   "execution_count": 7,
   "metadata": {},
   "outputs": [
    {
     "data": {
      "text/plain": [
       "(30,)"
      ]
     },
     "execution_count": 7,
     "metadata": {},
     "output_type": "execute_result"
    }
   ],
   "source": [
    "y_test.shape"
   ]
  },
  {
   "cell_type": "code",
   "execution_count": 8,
   "metadata": {},
   "outputs": [],
   "source": [
    "class Node:\n",
    "    \n",
    "    def __init__(self):\n",
    "        self.predict_ = None\n",
    "        self.feature_ = None\n",
    "        self.sep_ = None\n",
    "        self.left_ = None\n",
    "        self.right_ = None\n",
    "    \n",
    "    def save(self, feature, sep):\n",
    "        self.feature_ = feature\n",
    "        self.sep_ = sep"
   ]
  },
  {
   "cell_type": "code",
   "execution_count": 9,
   "metadata": {},
   "outputs": [],
   "source": [
    "class DecisionTree:\n",
    "    \n",
    "    def __init__(self):\n",
    "        self.root_ = Node()\n",
    "        \n",
    "    def fit(self, df):\n",
    "        self.df_ = df\n",
    "        self.fit_r(self.root_, np.arange(self.df_.shape[0]))\n",
    "        del self.df_\n",
    "    \n",
    "    def fit_r(self, nd, indices):\n",
    "        classes = set(self.df_.iloc[indices, -1])\n",
    "        if len(classes) == 1:\n",
    "            nd.predict_ = list(classes)[0]\n",
    "            return\n",
    "        li, ri, j, s, ig = [None, None, None, None, 0]\n",
    "        for feature in self.df_.columns[:-1]:\n",
    "            for sep in np.unique(self.df_[feature]):\n",
    "                left, right = self.split(indices, feature, sep)\n",
    "                curr_ig = self.IG(indices, left, right, feature, sep)\n",
    "                if curr_ig > ig:\n",
    "                    li, ri, j, s, ig = left, right, feature, sep, curr_ig\n",
    "        nd.save(j, s)\n",
    "        nd.left_ = Node()\n",
    "        if li.shape[0] > 5:\n",
    "            self.fit_r(nd.left_, li)\n",
    "        else:\n",
    "            nd.left_.predict_ = np.argmax(np.bincount(self.df_.iloc[li, -1]))\n",
    "        \n",
    "        nd.right_ = Node()\n",
    "        if ri.shape[0] > 5:\n",
    "            self.fit_r(nd.right_, ri)\n",
    "        else:\n",
    "            nd.right_.predict_ = np.argmax(np.bincount(self.df_.iloc[ri, -1]))\n",
    "            \n",
    "    \n",
    "    def split(self, indices, feature, sep):\n",
    "        tf_array = (self.df_.iloc[indices,list(self.df_.columns).index(feature)] > sep).values\n",
    "        return indices[(1-tf_array).astype(bool)], indices[tf_array]\n",
    "    \n",
    "    def gini_index(self, indices):\n",
    "        labels = self.df_.iloc[indices,-1].values\n",
    "        p = np.bincount(labels) / len(labels)\n",
    "        return 1 - p @ p # (p**2).sum()\n",
    "    \n",
    "    def IG(self, fi, li, ri, feature, sep):\n",
    "        return self.gini_index(fi) - (li.shape[0] * self.gini_index(li) + ri.shape[0] * self.gini_index(ri)) / len(fi)\n",
    "    \n",
    "    def predict(self, df):\n",
    "        return np.array([self.pr(row[1], self.root_) for row in df.iterrows()])\n",
    "    \n",
    "    def pr(self, array, node):\n",
    "        if node.predict_ is None:\n",
    "            return self.pr(array, node.right_ if array[node.feature_] > node.sep_ else node.left_)\n",
    "        else:\n",
    "            return node.predict_"
   ]
  },
  {
   "cell_type": "code",
   "execution_count": 10,
   "metadata": {},
   "outputs": [],
   "source": [
    "dt = DecisionTree()\n",
    "dt.fit(X_train)"
   ]
  },
  {
   "cell_type": "code",
   "execution_count": 11,
   "metadata": {},
   "outputs": [
    {
     "name": "stdout",
     "output_type": "stream",
     "text": [
      "[0 0 0 0 0 0 0 0 0 0 1 1 2 1 1 1 2 1 1 1 2 2 2 2 2 2 1 2 2 2]\n"
     ]
    }
   ],
   "source": [
    "print(dt.predict(X_test))"
   ]
  },
  {
   "cell_type": "code",
   "execution_count": 12,
   "metadata": {},
   "outputs": [
    {
     "name": "stdout",
     "output_type": "stream",
     "text": [
      "[0 0 0 0 0 0 0 0 0 0 1 1 1 1 1 1 1 1 1 1 2 2 2 2 2 2 2 2 2 2]\n"
     ]
    }
   ],
   "source": [
    "print(np.array(y_test))"
   ]
  },
  {
   "cell_type": "code",
   "execution_count": 13,
   "metadata": {},
   "outputs": [
    {
     "data": {
      "text/plain": [
       "array([ 0,  0,  0,  0,  0,  0,  0,  0,  0,  0,  0,  0,  1,  0,  0,  0,  1,\n",
       "        0,  0,  0,  0,  0,  0,  0,  0,  0, -1,  0,  0,  0], dtype=int64)"
      ]
     },
     "execution_count": 13,
     "metadata": {},
     "output_type": "execute_result"
    }
   ],
   "source": [
    "dt.predict(X_test) - np.array(y_test)"
   ]
  },
  {
   "cell_type": "code",
   "execution_count": null,
   "metadata": {},
   "outputs": [],
   "source": []
  }
 ],
 "metadata": {
  "kernelspec": {
   "display_name": "Python 3",
   "language": "python",
   "name": "python3"
  },
  "language_info": {
   "codemirror_mode": {
    "name": "ipython",
    "version": 3
   },
   "file_extension": ".py",
   "mimetype": "text/x-python",
   "name": "python",
   "nbconvert_exporter": "python",
   "pygments_lexer": "ipython3",
   "version": "3.6.8"
  }
 },
 "nbformat": 4,
 "nbformat_minor": 2
}
