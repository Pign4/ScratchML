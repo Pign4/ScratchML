{
 "cells": [
  {
   "cell_type": "markdown",
   "metadata": {},
   "source": [
    "# Exercise\n",
    "Similarly to the Linear Regression exercise, generate noisy data by adding noise to a predefined linear function.  Apply then a Lasso Regression with a high degree polynomial and observe which coefficients are left out.  "
   ]
  },
  {
   "cell_type": "markdown",
   "metadata": {},
   "source": [
    "### Lasso Regression:\n",
    "$min ||Xa - y||$<sub>2</sub><sup>2</sup> $+$ $\\lambda ||a||$<sub>1</sub>"
   ]
  },
  {
   "cell_type": "markdown",
   "metadata": {},
   "source": [
    "#### Steps:  \n",
    "0. Set Parameters\n",
    "1. Generate the Data  \n",
    "2. Declare the Model\n",
    "3. Train the Model\n",
    "4. Compare"
   ]
  },
  {
   "cell_type": "code",
   "execution_count": 1,
   "metadata": {},
   "outputs": [],
   "source": [
    "# Import libraries\n",
    "import numpy as np\n",
    "import matplotlib.pyplot as plt\n",
    "from sklearn.model_selection import train_test_split"
   ]
  },
  {
   "cell_type": "markdown",
   "metadata": {},
   "source": [
    "## 0. Set Parameters"
   ]
  },
  {
   "cell_type": "code",
   "execution_count": 2,
   "metadata": {},
   "outputs": [],
   "source": [
    "# Degree of polynomial:\n",
    "p = 5\n",
    "\n",
    "# Lambda\n",
    "lmb = 0"
   ]
  },
  {
   "cell_type": "markdown",
   "metadata": {},
   "source": [
    "## 1. Generate the Data"
   ]
  },
  {
   "cell_type": "code",
   "execution_count": 3,
   "metadata": {},
   "outputs": [],
   "source": [
    "a0 = 1\n",
    "a1 = 1.5\n",
    "\n",
    "def f(x,a0,a1):\n",
    "    y = a0 + a1 * x\n",
    "    return y"
   ]
  },
  {
   "cell_type": "code",
   "execution_count": 5,
   "metadata": {},
   "outputs": [
    {
     "data": {
      "image/png": "[encoded data removed]",
      "text/plain": [
       "<Figure size 432x288 with 1 Axes>"
      ]
     },
     "metadata": {
      "needs_background": "light"
     },
     "output_type": "display_data"
    }
   ],
   "source": [
    "x = np.linspace(0,10,100)\n",
    "y = f(x,a0,a1)\n",
    "mu, sigma = 0, 6 # mean and standard deviation\n",
    "s = np.random.normal(mu, sigma, 100)\n",
    "x_noise = y + s\n",
    "plt.scatter(x,x_noise)\n",
    "plt.show()"
   ]
  },
  {
   "cell_type": "markdown",
   "metadata": {},
   "source": [
    "Split the data:"
   ]
  },
  {
   "cell_type": "code",
   "execution_count": 6,
   "metadata": {},
   "outputs": [],
   "source": [
    "x_train, x_test, y_train, y_test = train_test_split(x, x_noise, test_size=0.3, random_state=0)\n",
    "N = x_train.shape[0]"
   ]
  },
  {
   "cell_type": "markdown",
   "metadata": {},
   "source": [
    "## 2. Declare the Model"
   ]
  },
  {
   "cell_type": "markdown",
   "metadata": {},
   "source": [
    "Beware that for a Lasso regression the first column of your X matrix is not the column of the intercept. Hence, it doesn't have to be a column of ones."
   ]
  },
  {
   "cell_type": "code",
   "execution_count": 11,
   "metadata": {},
   "outputs": [
    {
     "data": {
      "text/plain": [
       "(70, 5)"
      ]
     },
     "execution_count": 11,
     "metadata": {},
     "output_type": "execute_result"
    }
   ],
   "source": [
    "# First column\n",
    "X = np.array([x_train]).T\n",
    "\n",
    "# Transform x_train into a N*1 matrix\n",
    "x_train_ = np.array([x_train]).T\n",
    "\n",
    "# Add a column for each grade of the polynomial\n",
    "for i in range(1,p):\n",
    "    X = np.concatenate((X,x_train_**i), axis = 1)\n",
    "    \n",
    "X.shape\n"
   ]
  },
  {
   "cell_type": "markdown",
   "metadata": {},
   "source": [
    "## 3. Train the model"
   ]
  },
  {
   "cell_type": "markdown",
   "metadata": {},
   "source": [
    "How do I implement the minimation law of the lasso regression?"
   ]
  },
  {
   "cell_type": "markdown",
   "metadata": {},
   "source": [
    "$||x||$<sub>1</sub>$ = \\sum_{i=1}^{n} |x_i|$"
   ]
  },
  {
   "cell_type": "markdown",
   "metadata": {},
   "source": [
    "This term is not writable in matrix-vector form. We therefor need to use an iterative method.  \n",
    "Here we will use the scikit learn library."
   ]
  },
  {
   "cell_type": "code",
   "execution_count": 12,
   "metadata": {},
   "outputs": [],
   "source": [
    "from sklearn.linear_model import Lasso"
   ]
  },
  {
   "cell_type": "code",
   "execution_count": 13,
   "metadata": {},
   "outputs": [
    {
     "name": "stdout",
     "output_type": "stream",
     "text": [
      "3.243179181244308\n",
      "[ 0.          0.          0.          0.05309371 -0.00432692]\n"
     ]
    }
   ],
   "source": [
    "lasso = Lasso(alpha=N*0.1,fit_intercept=True)\n",
    "lasso.fit(X,y_train)\n",
    "\n",
    "intercept = lasso.intercept_\n",
    "beta = lasso.coef_\n",
    "\n",
    "print(intercept)\n",
    "print(beta)"
   ]
  },
  {
   "cell_type": "code",
   "execution_count": 15,
   "metadata": {},
   "outputs": [
    {
     "data": {
      "image/png": "[encoded data removed]",
      "text/plain": [
       "<Figure size 432x288 with 1 Axes>"
      ]
     },
     "metadata": {
      "needs_background": "light"
     },
     "output_type": "display_data"
    }
   ],
   "source": [
    "# Compute model response y_\n",
    "\n",
    "X_ = np.array([x]).T\n",
    "\n",
    "# Add a column for each grade of the polynomial\n",
    "x_ = np.array([x]).T\n",
    "for i in range(1,p):\n",
    "    X_ = np.concatenate((X_,x_**i), axis = 1)\n",
    "    \n",
    "y_ = np.dot(X_,beta) + intercept\n",
    "\n",
    "# Plot model\n",
    "plt.scatter(x,x_noise,alpha=0.7)\n",
    "plt.plot(x,y_,'orange',lw=3)\n",
    "plt.show()"
   ]
  },
  {
   "cell_type": "markdown",
   "metadata": {},
   "source": [
    "## 4. Compare the models"
   ]
  },
  {
   "cell_type": "code",
   "execution_count": 187,
   "metadata": {},
   "outputs": [
    {
     "data": {
      "image/png": "[encoded data removed]",
      "text/plain": [
       "<Figure size 432x288 with 1 Axes>"
      ]
     },
     "metadata": {
      "needs_background": "light"
     },
     "output_type": "display_data"
    }
   ],
   "source": [
    "plt.plot(x,y,'red')\n",
    "plt.plot(x,y_,'orange')\n",
    "plt.show()"
   ]
  },
  {
   "cell_type": "code",
   "execution_count": null,
   "metadata": {},
   "outputs": [],
   "source": []
  }
 ],
 "metadata": {
  "kernelspec": {
   "display_name": "Python 3",
   "language": "python",
   "name": "python3"
  },
  "language_info": {
   "codemirror_mode": {
    "name": "ipython",
    "version": 3
   },
   "file_extension": ".py",
   "mimetype": "text/x-python",
   "name": "python",
   "nbconvert_exporter": "python",
   "pygments_lexer": "ipython3",
   "version": "3.6.8"
  }
 },
 "nbformat": 4,
 "nbformat_minor": 2
}
